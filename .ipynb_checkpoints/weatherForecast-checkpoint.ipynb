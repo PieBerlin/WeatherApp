{
 "cells": [
  {
   "cell_type": "code",
   "execution_count": 15,
   "id": "734256e2-7142-446a-bbc3-f36723fe1bec",
   "metadata": {},
   "outputs": [],
   "source": [
    "import pandas as pd\n",
    "from sklearn.tree import DecisionTreeClassifier\n",
    "from sklearn.model_selection import train_test_split\n",
    "from sklearn.metrics import accuracy_score\n",
    "import joblib as jb\n",
    "def weather(data):\n",
    "    weather_data=pd.read_csv('weather.csv')\n",
    "    X=weather_data.drop(columns=['date','weather'])\n",
    "    y=weather_data['weather']\n",
    "    #X\n",
    "    X_train,X_test,y_train,y_test=train_test_split(X,y,test_size=0.2)\n",
    "    model=DecisionTreeClassifier()\n",
    "    model.fit(X_train,y_train)\n",
    "    # predictions=model.predict(X_test)\n",
    "    # score=accuracy_score(y_test,predictions)\n",
    "    # score\n",
    "    # X\n",
    "    jb.dump(model,\"weatherforecast.joblib\")\n",
    "    model=jb.load(\"weatherforecast.joblib\")\n",
    "    predictions=model.predict([[data]])\n",
    "    predictions\n",
    "\n",
    "\n"
   ]
  }
 ],
 "metadata": {
  "kernelspec": {
   "display_name": "Python 3 (ipykernel)",
   "language": "python",
   "name": "python3"
  },
  "language_info": {
   "codemirror_mode": {
    "name": "ipython",
    "version": 3
   },
   "file_extension": ".py",
   "mimetype": "text/x-python",
   "name": "python",
   "nbconvert_exporter": "python",
   "pygments_lexer": "ipython3",
   "version": "3.12.7"
  }
 },
 "nbformat": 4,
 "nbformat_minor": 5
}
