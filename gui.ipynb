{
 "cells": [
  {
   "cell_type": "code",
   "execution_count": 5,
   "id": "67c136c5-6821-4587-905c-0dd04da2af75",
   "metadata": {},
   "outputs": [
    {
     "ename": "ModuleNotFoundError",
     "evalue": "No module named 'weatherForecast'",
     "output_type": "error",
     "traceback": [
      "\u001b[1;31m---------------------------------------------------------------------------\u001b[0m",
      "\u001b[1;31mModuleNotFoundError\u001b[0m                       Traceback (most recent call last)",
      "Cell \u001b[1;32mIn[5], line 2\u001b[0m\n\u001b[0;32m      1\u001b[0m \u001b[38;5;28;01mfrom\u001b[39;00m \u001b[38;5;21;01mtkinter\u001b[39;00m \u001b[38;5;28;01mimport\u001b[39;00m\u001b[38;5;241m*\u001b[39m\n\u001b[1;32m----> 2\u001b[0m \u001b[38;5;28;01mimport\u001b[39;00m \u001b[38;5;21;01mweatherForecast\u001b[39;00m \u001b[38;5;28;01mas\u001b[39;00m \u001b[38;5;21;01mWF\u001b[39;00m\n\u001b[0;32m      4\u001b[0m root\u001b[38;5;241m=\u001b[39mTk()\n\u001b[0;32m      5\u001b[0m root\u001b[38;5;241m.\u001b[39mtitle(\u001b[38;5;124m'\u001b[39m\u001b[38;5;124mWeather Forecast\u001b[39m\u001b[38;5;124m'\u001b[39m)\n",
      "\u001b[1;31mModuleNotFoundError\u001b[0m: No module named 'weatherForecast'"
     ]
    }
   ],
   "source": [
    "from tkinter import*\n",
    "import weatherForecast as WF\n",
    "\n",
    "root=Tk()\n",
    "root.title('Weather Forecast')\n",
    "display_precipitation=Entry(root,width=35,bg=\"blue\",fg=\"white\",borderwidth=5)\n",
    "display_max_temp=Entry(root,width=35,bg=\"blue\",fg=\"white\",borderwidth=5)\n",
    "display_min_temp=Entry(root,width=35,bg=\"blue\",fg=\"white\",borderwidth=5)\n",
    "display_wind=Entry(root,width=35,bg=\"blue\",fg=\"white\",borderwidth=5)\n",
    "\n",
    "display_weather=Label(root,text=\"\")\n",
    "\n",
    "label1=Label(root,text=\"Precipitation\")\n",
    "label2=Label(root,text=\"Maximum Temperature\")\n",
    "label3=Label(root,text=\"Minimum Temperature\")\n",
    "label4=Label(root,text=\"Wind\")\n",
    "\n",
    "\n",
    "def ok():\n",
    "    return\n",
    "\n",
    "\n",
    "button_ok=Button(root,text=\"Ok\",command=ok)\n",
    "button_exit=Button(root,text=\"Exit\",command=root.quit)\n",
    "\n",
    "display_precipitation.grid(row=1,column=1)\n",
    "display_max_temp.grid(row=2,column=1)\n",
    "display_min_temp.grid(row=3,column=1)\n",
    "display_wind.grid(row=4,column=1)\n",
    "\n",
    "label1.grid(row=1,column=0)\n",
    "label2.grid(row=2,column=0)\n",
    "label3.grid(row=3,column=0)\n",
    "label4.grid(row=4,column=0)\n",
    "display_weather.grid(row=0,column=0,columnspan=3)\n",
    "\n",
    "button_ok.grid(row=5,column=0)\n",
    "button_exit.grid(row=5,column=2)\n",
    "\n",
    "root.mainloop()\n",
    "\n",
    "\n",
    "\n",
    "\n",
    "\n",
    "\n"
   ]
  },
  {
   "cell_type": "code",
   "execution_count": null,
   "id": "d761a66a-1354-4ff2-9343-61fb6e526922",
   "metadata": {},
   "outputs": [],
   "source": []
  },
  {
   "cell_type": "code",
   "execution_count": null,
   "id": "50da3160-da41-40a4-bd7d-0d132e0b1c6a",
   "metadata": {},
   "outputs": [],
   "source": []
  }
 ],
 "metadata": {
  "kernelspec": {
   "display_name": "Python 3 (ipykernel)",
   "language": "python",
   "name": "python3"
  },
  "language_info": {
   "codemirror_mode": {
    "name": "ipython",
    "version": 3
   },
   "file_extension": ".py",
   "mimetype": "text/x-python",
   "name": "python",
   "nbconvert_exporter": "python",
   "pygments_lexer": "ipython3",
   "version": "3.12.7"
  }
 },
 "nbformat": 4,
 "nbformat_minor": 5
}
